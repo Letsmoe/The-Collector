{
 "cells": [
  {
   "cell_type": "code",
   "execution_count": 51,
   "metadata": {},
   "outputs": [],
   "source": [
    "import os\n",
    "from functools import partial\n",
    "from multiprocessing.pool import Pool\n",
    "\n",
    "import cv2\n",
    "import youtube_dl\n",
    "import numpy as np"
   ]
  },
  {
   "cell_type": "code",
   "execution_count": 81,
   "metadata": {},
   "outputs": [
    {
     "name": "stdout",
     "output_type": "stream",
     "text": [
      "Obtaining frames\n"
     ]
    }
   ],
   "source": [
    "NumProcesses = os.cpu_count()\n",
    "\n",
    "def GetFrames(url, skip_frames, InitialOffset = 0, ProcessNumber = 0):\n",
    "\tglobal NumProcesses\n",
    "\t# Get the video capture\n",
    "\tcap = cv2.VideoCapture(url)\n",
    "\n",
    "\t# Video frame number\n",
    "\tFrameCount = cap.get(cv2.CAP_PROP_FRAME_COUNT)\n",
    "\n",
    "\tFramesPerProcess = FrameCount // NumProcesses\n",
    "\tFrameOffset = (ProcessNumber * FramesPerProcess) + InitialOffset\n",
    "\n",
    "\tCurrentFrame = FrameOffset\n",
    "\tcap.set(cv2.CAP_PROP_POS_FRAMES, FramesPerProcess)\n",
    "\twhile CurrentFrame < FramesPerProcess + FrameOffset:\n",
    "\t\tret, frame = cap.read()\n",
    "\t\tif not ret:\n",
    "\t\t\tbreak\n",
    "\t\tfilename =\"./images/PATH\\shot\" + str(CurrentFrame) + \".png\"\n",
    "\t\tcv2.imwrite(filename, frame)\n",
    "\t\tCurrentFrame += skip_frames  # Skip 300 frames i.e. 10 seconds for 30 fps\n",
    "\t\tcap.set(1, CurrentFrame)\n",
    "\tcap.release()\n",
    "\n",
    "\n",
    "\n",
    "video_url = \"https://s9.bigcdn.cc/pubs/6198b1762b8d49.69649886/360.mp4\"  # The Youtube URL\n",
    "\n",
    "print(\"Obtaining frames\")\n",
    "with Pool(NumProcesses) as pool:\n",
    "\tpool.map(partial(GetFrames, video_url, 240, 2160), range(NumProcesses))"
   ]
  },
  {
   "cell_type": "code",
   "execution_count": null,
   "metadata": {},
   "outputs": [],
   "source": []
  }
 ],
 "metadata": {
  "interpreter": {
   "hash": "f71568b777833ccf7e25d0140e2de381dba3fc5405f5c7c60d120ab83c46892e"
  },
  "kernelspec": {
   "display_name": "Python 3.8.8 64-bit ('base': conda)",
   "language": "python",
   "name": "python3"
  },
  "language_info": {
   "codemirror_mode": {
    "name": "ipython",
    "version": 3
   },
   "file_extension": ".py",
   "mimetype": "text/x-python",
   "name": "python",
   "nbconvert_exporter": "python",
   "pygments_lexer": "ipython3",
   "version": "3.8.8"
  },
  "orig_nbformat": 4
 },
 "nbformat": 4,
 "nbformat_minor": 2
}
