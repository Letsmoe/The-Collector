{
 "cells": [
  {
   "cell_type": "code",
   "execution_count": 6,
   "metadata": {},
   "outputs": [
    {
     "name": "stdout",
     "output_type": "stream",
     "text": [
      "[youtube] wbpMiKiSKm8: Downloading webpage\n",
      "Obtaining frames\n"
     ]
    }
   ],
   "source": [
    "import os\n",
    "from functools import partial\n",
    "from multiprocessing.pool import Pool\n",
    "\n",
    "import cv2\n",
    "import youtube_dl\n",
    "\n",
    "counter = 0\n",
    "\n",
    "def process_video_parallel(url, skip_frames, process_number):\n",
    "\tcap = cv2.VideoCapture(url)\n",
    "\tnum_processes = os.cpu_count()\n",
    "\tframes_per_process = int(cap.get(cv2.CAP_PROP_FRAME_COUNT)) // num_processes\n",
    "\tcap.set(cv2.CAP_PROP_POS_FRAMES, frames_per_process * process_number)\n",
    "\tx = 0\n",
    "\tcount = 0\n",
    "\twhile x < 100 and count < frames_per_process:\n",
    "\t\tret, frame = cap.read()\n",
    "\t\tif not ret:\n",
    "\t\t\tbreak\n",
    "\t\tfilename =\"./images/PATH\\shot\" + str(x) + \".png\"\n",
    "\t\tx += 1\n",
    "\t\tcv2.imwrite(filename, frame)\n",
    "\t\tcount += skip_frames  # Skip 300 frames i.e. 10 seconds for 30 fps\n",
    "\t\tcap.set(1, count)\n",
    "\tcap.release()\n",
    "\n",
    "\n",
    "\n",
    "video_url = \"https://www.youtube.com/watch?v=wbpMiKiSKm8\"  # The Youtube URL\n",
    "ydl_opts = {}\n",
    "ydl = youtube_dl.YoutubeDL(ydl_opts)\n",
    "info_dict = ydl.extract_info(video_url, download=False)\n",
    "\n",
    "formats = info_dict.get('formats', None)\n",
    "\n",
    "print(\"Obtaining frames\")\n",
    "for f in formats:\n",
    "\tif f.get('format_note', None) == '144p':\n",
    "\t\turl = f.get('url', None)\n",
    "\t\tcpu_count = os.cpu_count()\n",
    "\t\twith Pool(cpu_count) as pool:\n",
    "\t\t\tpool.map(partial(process_video_parallel, url, 30), range(0))"
   ]
  },
  {
   "cell_type": "code",
   "execution_count": null,
   "metadata": {},
   "outputs": [],
   "source": []
  }
 ],
 "metadata": {
  "interpreter": {
   "hash": "f71568b777833ccf7e25d0140e2de381dba3fc5405f5c7c60d120ab83c46892e"
  },
  "kernelspec": {
   "display_name": "Python 3.8.8 64-bit ('base': conda)",
   "language": "python",
   "name": "python3"
  },
  "language_info": {
   "codemirror_mode": {
    "name": "ipython",
    "version": 3
   },
   "file_extension": ".py",
   "mimetype": "text/x-python",
   "name": "python",
   "nbconvert_exporter": "python",
   "pygments_lexer": "ipython3",
   "version": "3.8.8"
  },
  "orig_nbformat": 4
 },
 "nbformat": 4,
 "nbformat_minor": 2
}
